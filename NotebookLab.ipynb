{
 "cells": [
  {
   "cell_type": "markdown",
   "id": "1303bb60",
   "metadata": {},
   "source": [
    "## Valon Haslem\n",
    "# CPSC 322\n",
    "# LA 5 -- Notebook Assignment"
   ]
  },
  {
   "cell_type": "markdown",
   "id": "468864ab",
   "metadata": {},
   "source": [
    "# Task 1\n",
    "$\\log_{2}(a \\times b) = \\log_2{a} + \\log_2{b}$\n",
    "\n",
    "$ \\log_2(a / b) = \\log_{2}a  - \\log_{2} b$\n",
    "\n",
    "$\\log_2 (a^n) = n \\times log_{2} a$\n",
    "\n",
    "$ \\log_2(1/a) = - \\log_{2} a$\n",
    "\n",
    "\n",
    "$\\sum_{i = 1}^{i = m} \\sum_{j = 1}^{j = n} a_{ij} = \\sum_{j = 1}^{j = n} \\sum_{i = 1}^{i = m} a_{ij}$\n",
    "\n",
    "[Bramer](https://www.amazon.com/Principles-Mining-Undergraduate-Computer-Science/dp/1447174925)"
   ]
  },
  {
   "cell_type": "markdown",
   "id": "1dc0e61e",
   "metadata": {},
   "source": [
    "# Task 2\n",
    "\n",
    "1. Mean Formula\n",
    "\n",
    "$\\text{mean} = \\frac{\\sum_{i}^n a_i}{n}$"
   ]
  },
  {
   "cell_type": "code",
   "execution_count": 6,
   "id": "df2ca976",
   "metadata": {},
   "outputs": [
    {
     "name": "stdout",
     "output_type": "stream",
     "text": [
      "Mean of sequence1 is 50.86.\n",
      "Mean of sequence2 is 45.81.\n"
     ]
    }
   ],
   "source": [
    "### Task 2 part 2 ####\n",
    "\n",
    "import random as rand\n",
    "\n",
    "def mean_computation(sequence):\n",
    "    mean = sum(sequence) / len(sequence)\n",
    "\n",
    "    return mean\n",
    "\n",
    "\n",
    "sequence1 = [rand.randint(1, 100) for i in range(100)]\n",
    "sequence2 = [rand.randint(1, 100) for i in range(100)]\n",
    "\n",
    "\n",
    "print(f'Mean of sequence1 is {mean_computation(sequence1)}.')\n",
    "print(f'Mean of sequence2 is {mean_computation(sequence2)}.')\n",
    "\n"
   ]
  },
  {
   "cell_type": "markdown",
   "id": "1925f6e8",
   "metadata": {},
   "source": [
    "# Task 3\n",
    "\n",
    "1. Here is an image:\n",
    "![image](https://flowingdata.com/wp-content/uploads/2013/10/monty_hall.png?w=640)\n",
    "\n",
    "2. This image is a joke about the famous Monty Hall Problem in statistics. While the point of the game is to open a door containing a car instead of a goat (there are two goats and 1 car, and the host reveals a goat first), the player is clearly happier with the goat than with the car. \n",
    "\n",
    "The basis of the problem goes as follows: you are on a game show and open a door. The host reveals a different door and shows a goat. The host then gives you the option to change your door or stick with the first door. Probability theory tells us that you should change your door, because the probability of finding a car is now $\\frac{2}{3}$ if you switch and $\\frac{1}{3}$ if you stay. Statistics is a challenge, and statistics of variable change is an important component of data science and the understanding of data patterns."
   ]
  }
 ],
 "metadata": {
  "kernelspec": {
   "display_name": "Python 3",
   "language": "python",
   "name": "python3"
  },
  "language_info": {
   "codemirror_mode": {
    "name": "ipython",
    "version": 3
   },
   "file_extension": ".py",
   "mimetype": "text/x-python",
   "name": "python",
   "nbconvert_exporter": "python",
   "pygments_lexer": "ipython3",
   "version": "3.11.9"
  }
 },
 "nbformat": 4,
 "nbformat_minor": 5
}
